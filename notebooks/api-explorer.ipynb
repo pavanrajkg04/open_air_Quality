{
 "cells": [
  {
   "cell_type": "code",
   "execution_count": 47,
   "metadata": {},
   "outputs": [],
   "source": [
    "import json\n",
    "from openaq import OpenAQ"
   ]
  },
  {
   "cell_type": "code",
   "execution_count": 48,
   "metadata": {},
   "outputs": [],
   "source": [
    "with open('../secrets.json') as f:\n",
    "    secrets = json.load(f)\n",
    "    f.close()\n",
    "    \n",
    "openaq_api = secrets['openaq-api-key']\n"
   ]
  },
  {
   "cell_type": "code",
   "execution_count": 49,
   "metadata": {},
   "outputs": [
    {
     "name": "stdout",
     "output_type": "stream",
     "text": [
      "connection scussesful\n"
     ]
    }
   ],
   "source": [
    "try:\n",
    "    client = OpenAQ(api_key=openaq_api)\n",
    "    print(\"connection scussesful\")\n",
    "except:\n",
    "    print('There seems to be mistake')"
   ]
  },
  {
   "cell_type": "code",
   "execution_count": 50,
   "metadata": {},
   "outputs": [
    {
     "name": "stdout",
     "output_type": "stream",
     "text": [
      "There are 20 sensors Found in the area submited\n"
     ]
    }
   ],
   "source": [
    "try:\n",
    "\n",
    "    Bangalore_bbox_location_search = client.locations.list(\n",
    "        bbox=(77.243500,12.703311,77.998810,13.166411),\n",
    "        limit=1000\n",
    "    )\n",
    "    if Bangalore_bbox_location_search:\n",
    "        print(\"There are\",Bangalore_bbox_location_search.meta.found,\"sensors Found in the area submited\")\n",
    "except:\n",
    "    print(\"failed to fetch data\")"
   ]
  },
  {
   "cell_type": "code",
   "execution_count": 51,
   "metadata": {},
   "outputs": [
    {
     "data": {
      "text/plain": [
       "{412: ('Peenya, Bengaluru - KSPCB',),\n",
       " 594: ('BTM Layout, Bengaluru - KSPCB',),\n",
       " 797: ('City Railway Station - KSPCB',),\n",
       " 2589: ('SaneguravaHalli - KSPCB',),\n",
       " 2592: ('BWSSB Kadabesanahalli, Bengaluru - KSPCB',),\n",
       " 5547: ('BWSSB Kadabesanahalli, Bengaluru - CPCB',),\n",
       " 5548: ('BTM Layout, Bengaluru - CPCB',),\n",
       " 5574: ('City Railway Station, Bengaluru - KSPCB',),\n",
       " 5607: ('Peenya, Bengaluru - CPCB',),\n",
       " 5644: ('Sanegurava Halli, Bengaluru - KSPCB',),\n",
       " 6973: ('Jayanagar 5th Block, Bengaluru - KSPCB',),\n",
       " 6974: ('Bapuji Nagar, Bengaluru - KSPCB',),\n",
       " 6975: ('Silk Board, Bengaluru - KSPCB',),\n",
       " 6983: ('Hombegowda Nagar, Bengaluru - KSPCB',),\n",
       " 6984: ('Hebbal, Bengaluru - KSPCB',),\n",
       " 10909: ('Vijay Nagar, Ramanagara - KSPCB',),\n",
       " 229473: ('blore_India_07_14_official',),\n",
       " 358454: ('SIPCOT Phase-1, Hosur - TNPCB',),\n",
       " 2498781: ('SiriJaya',),\n",
       " 2943407: ('PFR',)}"
      ]
     },
     "execution_count": 51,
     "metadata": {},
     "output_type": "execute_result"
    }
   ],
   "source": [
    "location_info = {}\n",
    "for location in Bangalore_bbox_location_search.results:\n",
    "    location_info[location.id] = location.name,\n",
    "location_info"
   ]
  },
  {
   "cell_type": "code",
   "execution_count": 52,
   "metadata": {},
   "outputs": [],
   "source": [
    "with open(\"../locations.json\", \"w\", encoding=\"utf-8\") as f:\n",
    "    json.dump(location_info, f, indent=4, ensure_ascii=False)\n",
    "    f.close()"
   ]
  },
  {
   "cell_type": "code",
   "execution_count": null,
   "metadata": {},
   "outputs": [],
   "source": []
  }
 ],
 "metadata": {
  "kernelspec": {
   "display_name": ".venv",
   "language": "python",
   "name": "python3"
  },
  "language_info": {
   "codemirror_mode": {
    "name": "ipython",
    "version": 3
   },
   "file_extension": ".py",
   "mimetype": "text/x-python",
   "name": "python",
   "nbconvert_exporter": "python",
   "pygments_lexer": "ipython3",
   "version": "3.12.3"
  }
 },
 "nbformat": 4,
 "nbformat_minor": 2
}
